{
 "cells": [
  {
   "cell_type": "markdown",
   "id": "d87124db",
   "metadata": {},
   "source": [
    "# Optimized Course Recommendation System"
   ]
  },
  {
   "cell_type": "code",
   "execution_count": null,
   "id": "4c237773",
   "metadata": {},
   "outputs": [],
   "source": [
    "import pandas as pd\n",
    "import matplotlib.pyplot as plt"
   ]
  },
  {
   "cell_type": "code",
   "execution_count": null,
   "id": "5c10f815",
   "metadata": {},
   "outputs": [],
   "source": [
    "df = pd.read_csv('../data/course_data.csv')\n",
    "df.head()"
   ]
  },
  {
   "cell_type": "code",
   "execution_count": null,
   "id": "c1f31ae6",
   "metadata": {},
   "outputs": [],
   "source": [
    "popularity = df.groupby('Course_Id')['Rating'].mean().sort_values(ascending=False)\n",
    "popularity.head()"
   ]
  },
  {
   "cell_type": "code",
   "execution_count": null,
   "id": "12357c16",
   "metadata": {},
   "outputs": [],
   "source": [
    "top10 = popularity.head(10)\n",
    "plt.bar(top10.index.astype(str), top10.values)\n",
    "plt.xticks(rotation=45, ha='right')\n",
    "plt.show()"
   ]
  }
 ],
 "metadata": {},
 "nbformat": 4,
 "nbformat_minor": 5
}
